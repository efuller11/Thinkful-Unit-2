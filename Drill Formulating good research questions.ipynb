{
 "cells": [
  {
   "cell_type": "markdown",
   "metadata": {},
   "source": [
    "# Drill: Formulating good research questions"
   ]
  },
  {
   "cell_type": "markdown",
   "metadata": {},
   "source": [
    "#### What is the 1994 rate of juvenile delinquency in the U.S.? No, it would be easy to find out this number but to do a whole research project on one number does not  make sense to me. I would be more interested in knowing the main contributing factor in juvenile delinquency."
   ]
  },
  {
   "cell_type": "markdown",
   "metadata": {},
   "source": [
    "#### What can we do to reduce juvenile delinquency in the U.S.? yes"
   ]
  },
  {
   "cell_type": "markdown",
   "metadata": {},
   "source": [
    "#### Does education play a role in reducing juvenile delinquents' return to crime? yes, depending on whether you can find the data to determine this"
   ]
  },
  {
   "cell_type": "markdown",
   "metadata": {},
   "source": [
    "####  How many customers does AT&T currently serve in Washington, DC? No, again this number would be easy enough to find, but I cannot imagine doing a whole project on a single number. I could ask, where does AT&T stand in Washington DC with its competition? I would compare customer counts from the all the services in the area and even break them down pros and cons for each rated against each other based on that area. "
   ]
  },
  {
   "cell_type": "markdown",
   "metadata": {},
   "source": [
    "#### What factors lead consumers to choose AT&T over other service providers? Yes, they could use data data from surveys and also  make comparisions between themselves and the competitor they switched to"
   ]
  },
  {
   "cell_type": "markdown",
   "metadata": {},
   "source": [
    "#### How can AT&T attract more customers?Yes, I believe the same data from the previous question could be used here"
   ]
  },
  {
   "cell_type": "markdown",
   "metadata": {},
   "source": [
    "#### Why did the Challenger Shuttle explode? No, this question has been answered already. The o-rings used could not handle the cold temperature during the launch. This led to a chain reaction and caused the shuttle to break apart in 73 seconds. Perhaps we could ask what are steps that could be taken to prevent  another accident in the future?"
   ]
  },
  {
   "cell_type": "markdown",
   "metadata": {},
   "source": [
    "#### Which genes are associated with increased risk of breast cancer? Yes, assuming it was possible to get a dataset for this"
   ]
  },
  {
   "cell_type": "markdown",
   "metadata": {},
   "source": [
    "#### Is it better to read to children at night or in the morning? yes"
   ]
  },
  {
   "cell_type": "markdown",
   "metadata": {},
   "source": [
    "#### How does Google’s search algorithm work? Yes, although I imagine the report would end up to be an extremely simplified version."
   ]
  }
 ],
 "metadata": {
  "kernelspec": {
   "display_name": "Python 3",
   "language": "python",
   "name": "python3"
  },
  "language_info": {
   "codemirror_mode": {
    "name": "ipython",
    "version": 3
   },
   "file_extension": ".py",
   "mimetype": "text/x-python",
   "name": "python",
   "nbconvert_exporter": "python",
   "pygments_lexer": "ipython3",
   "version": "3.6.3"
  }
 },
 "nbformat": 4,
 "nbformat_minor": 2
}
